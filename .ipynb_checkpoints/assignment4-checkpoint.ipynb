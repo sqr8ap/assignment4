{
 "cells": [
  {
   "cell_type": "markdown",
   "metadata": {},
   "source": [
    "# Assignment #4: Linear Models and Decision Trees\n",
    "## Foundations of Machine Learning\n",
    "## Do Q1 and one other question.\n",
    "### Advice: Reuse your code and code from lectures, package routine tasks into functions, make plans about how you'll carry out the analysis before jumping into writing code, and work as efficiently as possible"
   ]
  },
  {
   "cell_type": "markdown",
   "metadata": {},
   "source": [
    "**Q1.** This question is a case study for linear models and decision trees. The data are about car prices. In particular, they include:\n",
    "\n",
    "  - `Price`, `Color`, `Seating_Capacity`\n",
    "  - `Body_Type`: crossover, hatchback, muv, sedan, suv \n",
    "  - `Make`, `Make_Year`: The brand of car and year produced\n",
    "  - `Mileage_Run`: The number of miles on the odometer\n",
    "  - `Fuel_Type`: Diesel or gasoline/petrol\n",
    "  - `Transmission`, `Transmission_Type`:  speeds and automatic/manual\n",
    "\n",
    "  1. Load `cars_hw.csv`. These data were really dirty, and I've already cleaned them a significant amount in terms of missing values and other issues, but some issues remain (e.g. outliers, badly scaled variables that require a log or arcsinh transformation). Clean the data however you think is most appropriate.\n",
    "  2. Summarize the `Price` variable and create a kernel density plot. Use `.groupby()` and `.describe()` to summarize prices by brand (`Make`). Make a grouped kernel density plot by `Make`. Which car brands are the most expensive? What do prices look like in general?\n",
    "  3. Split the data into an 80% training set and a 20% testing set.\n",
    "  4. Let's focus on linear models. Make a model where you regress price on the numeric variables alone; what is the $R^2$ and `RMSE` on the test set? Make a second model where, for the categorical variables, make a model comprised of one-hot encoded regressors/features alone, and regress price on those variables; what is the $R^2$ and `RMSE` on the test set? Which model performs better on the test set? Make a third model that combines all the regressors from the previous two; what is the $R^2$ and `RMSE` on the test set? Does the joint model perform better or worse, and by home much?\n",
    "  5. Use the `PolynomialFeatures` function from `sklearn` to expand the set of numerical variables you're using, along with the categorical variables. As you increase the degree of the expansion, how do the $R^2$ and `RMSE` change? At what point does $R^2$ go negative on the test set? For your best model with expanded features, what is the $R^2$ and `RMSE`? How does it compare to your best model from part 3?\n",
    "  6. For your best model so far, determine the predicted values for the test data and plot them against the true values. Do the predicted values and true values roughly line up along the diagonal, or not? Compute the residuals/errors for the test data and create a kernel density plot. Do the residuals look roughly bell-shaped around zero? Evaluate the strengths and weaknesses of your model.\n",
    "  7. Now, let's use a regression tree. Construct an appropriate matrix of regressors/features, and fit a tree to the data. Vary the maximum depth of the decision tree using the `max_depth` option (i.e. `tree.DecisionTreeRegressor(max_depth=D)`), and compute the $R^2$ and `RMSE` on the test set of a variety of depths. What depth tree gives the best results?\n",
    "  8. For your best tree, determine the predicted values for the test data, and plot them against the true values. Do the predicted values and true values line up along the diagonal, or not? Compute the residuals/errors for the test data and create a kernel density plot. Do the residuals look roughly bell-shaped around zero?\n",
    "  12. Which model --- linear model or classification and regression tree --- has better performance on the test set?"
   ]
  },
  {
   "cell_type": "code",
   "execution_count": 1,
   "metadata": {},
   "outputs": [],
   "source": [
    "import numpy as np\n",
    "import pandas as pd\n",
    "import sklearn\n",
    "import scipy.stats as ss\n",
    "import matplotlib.pyplot as plt\n",
    "from sklearn.model_selection import train_test_split\n",
    "from sklearn.linear_model import LinearRegression\n",
    "from sklearn import tree\n",
    "import seaborn as sns"
   ]
  },
  {
   "cell_type": "markdown",
   "metadata": {},
   "source": [
    "#### 1.1"
   ]
  },
  {
   "cell_type": "code",
   "execution_count": 2,
   "metadata": {},
   "outputs": [],
   "source": [
    "df = pd.read_csv('data/cars_hw.csv')"
   ]
  },
  {
   "cell_type": "code",
   "execution_count": 3,
   "metadata": {},
   "outputs": [
    {
     "name": "stdout",
     "output_type": "stream",
     "text": [
      "<class 'pandas.core.frame.DataFrame'>\n",
      "RangeIndex: 976 entries, 0 to 975\n",
      "Data columns (total 12 columns):\n",
      " #   Column             Non-Null Count  Dtype \n",
      "---  ------             --------------  ----- \n",
      " 0   Unnamed: 0         976 non-null    int64 \n",
      " 1   Make               976 non-null    object\n",
      " 2   Make_Year          976 non-null    int64 \n",
      " 3   Color              976 non-null    object\n",
      " 4   Body_Type          976 non-null    object\n",
      " 5   Mileage_Run        976 non-null    int64 \n",
      " 6   No_of_Owners       976 non-null    object\n",
      " 7   Seating_Capacity   976 non-null    int64 \n",
      " 8   Fuel_Type          976 non-null    object\n",
      " 9   Transmission       976 non-null    object\n",
      " 10  Transmission_Type  976 non-null    object\n",
      " 11  Price              976 non-null    int64 \n",
      "dtypes: int64(5), object(7)\n",
      "memory usage: 91.6+ KB\n"
     ]
    }
   ],
   "source": [
    "df.info()"
   ]
  },
  {
   "cell_type": "code",
   "execution_count": 4,
   "metadata": {},
   "outputs": [
    {
     "data": {
      "text/html": [
       "<div>\n",
       "<style scoped>\n",
       "    .dataframe tbody tr th:only-of-type {\n",
       "        vertical-align: middle;\n",
       "    }\n",
       "\n",
       "    .dataframe tbody tr th {\n",
       "        vertical-align: top;\n",
       "    }\n",
       "\n",
       "    .dataframe thead th {\n",
       "        text-align: right;\n",
       "    }\n",
       "</style>\n",
       "<table border=\"1\" class=\"dataframe\">\n",
       "  <thead>\n",
       "    <tr style=\"text-align: right;\">\n",
       "      <th></th>\n",
       "      <th>Unnamed: 0</th>\n",
       "      <th>Make</th>\n",
       "      <th>Make_Year</th>\n",
       "      <th>Color</th>\n",
       "      <th>Body_Type</th>\n",
       "      <th>Mileage_Run</th>\n",
       "      <th>No_of_Owners</th>\n",
       "      <th>Seating_Capacity</th>\n",
       "      <th>Fuel_Type</th>\n",
       "      <th>Transmission</th>\n",
       "      <th>Transmission_Type</th>\n",
       "      <th>Price</th>\n",
       "    </tr>\n",
       "  </thead>\n",
       "  <tbody>\n",
       "    <tr>\n",
       "      <th>0</th>\n",
       "      <td>1</td>\n",
       "      <td>Volkswagen</td>\n",
       "      <td>2017</td>\n",
       "      <td>silver</td>\n",
       "      <td>sedan</td>\n",
       "      <td>44611</td>\n",
       "      <td>1st</td>\n",
       "      <td>5</td>\n",
       "      <td>diesel</td>\n",
       "      <td>7-Speed</td>\n",
       "      <td>Automatic</td>\n",
       "      <td>657000</td>\n",
       "    </tr>\n",
       "    <tr>\n",
       "      <th>1</th>\n",
       "      <td>2</td>\n",
       "      <td>Hyundai</td>\n",
       "      <td>2016</td>\n",
       "      <td>red</td>\n",
       "      <td>crossover</td>\n",
       "      <td>20305</td>\n",
       "      <td>1st</td>\n",
       "      <td>5</td>\n",
       "      <td>petrol</td>\n",
       "      <td>5-Speed</td>\n",
       "      <td>Manual</td>\n",
       "      <td>682000</td>\n",
       "    </tr>\n",
       "    <tr>\n",
       "      <th>2</th>\n",
       "      <td>3</td>\n",
       "      <td>Honda</td>\n",
       "      <td>2019</td>\n",
       "      <td>white</td>\n",
       "      <td>suv</td>\n",
       "      <td>29540</td>\n",
       "      <td>2nd</td>\n",
       "      <td>5</td>\n",
       "      <td>petrol</td>\n",
       "      <td>5-Speed</td>\n",
       "      <td>Manual</td>\n",
       "      <td>793000</td>\n",
       "    </tr>\n",
       "    <tr>\n",
       "      <th>3</th>\n",
       "      <td>4</td>\n",
       "      <td>Renault</td>\n",
       "      <td>2017</td>\n",
       "      <td>bronze</td>\n",
       "      <td>hatchback</td>\n",
       "      <td>35680</td>\n",
       "      <td>1st</td>\n",
       "      <td>5</td>\n",
       "      <td>petrol</td>\n",
       "      <td>5-Speed</td>\n",
       "      <td>Manual</td>\n",
       "      <td>414000</td>\n",
       "    </tr>\n",
       "    <tr>\n",
       "      <th>4</th>\n",
       "      <td>5</td>\n",
       "      <td>Hyundai</td>\n",
       "      <td>2017</td>\n",
       "      <td>orange</td>\n",
       "      <td>hatchback</td>\n",
       "      <td>25126</td>\n",
       "      <td>1st</td>\n",
       "      <td>5</td>\n",
       "      <td>petrol</td>\n",
       "      <td>5-Speed</td>\n",
       "      <td>Manual</td>\n",
       "      <td>515000</td>\n",
       "    </tr>\n",
       "  </tbody>\n",
       "</table>\n",
       "</div>"
      ],
      "text/plain": [
       "   Unnamed: 0        Make  Make_Year   Color  Body_Type  Mileage_Run  \\\n",
       "0           1  Volkswagen       2017  silver      sedan        44611   \n",
       "1           2     Hyundai       2016     red  crossover        20305   \n",
       "2           3       Honda       2019   white        suv        29540   \n",
       "3           4     Renault       2017  bronze  hatchback        35680   \n",
       "4           5     Hyundai       2017  orange  hatchback        25126   \n",
       "\n",
       "  No_of_Owners  Seating_Capacity Fuel_Type Transmission Transmission_Type  \\\n",
       "0          1st                 5    diesel      7-Speed         Automatic   \n",
       "1          1st                 5    petrol      5-Speed            Manual   \n",
       "2          2nd                 5    petrol      5-Speed            Manual   \n",
       "3          1st                 5    petrol      5-Speed            Manual   \n",
       "4          1st                 5    petrol      5-Speed            Manual   \n",
       "\n",
       "    Price  \n",
       "0  657000  \n",
       "1  682000  \n",
       "2  793000  \n",
       "3  414000  \n",
       "4  515000  "
      ]
     },
     "execution_count": 4,
     "metadata": {},
     "output_type": "execute_result"
    }
   ],
   "source": [
    "df.head()"
   ]
  },
  {
   "cell_type": "code",
   "execution_count": 5,
   "metadata": {},
   "outputs": [],
   "source": [
    "# Convert Make_Year to Age\n",
    "\n",
    "df['Age'] = max(df['Make_Year']) - df['Make_Year']"
   ]
  },
  {
   "cell_type": "code",
   "execution_count": 14,
   "metadata": {},
   "outputs": [],
   "source": [
    "# Convert No_of_Owners to numeric\n",
    "\n",
    "var = 'No_of_Owners'\n",
    "df.loc[df[var] == \"1st\", var] = 1\n",
    "df.loc[df[var] == \"2nd\", var] = 2\n",
    "df.loc[df[var] == \"3rd\", var] = 3\n",
    "\n",
    "df[var] = pd.to_numeric(df[var])"
   ]
  },
  {
   "cell_type": "code",
   "execution_count": 15,
   "metadata": {},
   "outputs": [
    {
     "data": {
      "text/plain": [
       "(array([ 47.,  78.,  96., 115., 107.,  83.,  87.,  73.,  61.,  47.,  53.,\n",
       "         39.,  31.,  32.,  27.]),\n",
       " array([ 1117.        ,  7675.53333333, 14234.06666667, 20792.6       ,\n",
       "        27351.13333333, 33909.66666667, 40468.2       , 47026.73333333,\n",
       "        53585.26666667, 60143.8       , 66702.33333333, 73260.86666667,\n",
       "        79819.4       , 86377.93333333, 92936.46666667, 99495.        ]),\n",
       " <BarContainer object of 15 artists>)"
      ]
     },
     "execution_count": 15,
     "metadata": {},
     "output_type": "execute_result"
    },
    {
     "data": {
      "image/png": "[encoded data removed]",
      "text/plain": [
       "<Figure size 640x480 with 1 Axes>"
      ]
     },
     "metadata": {},
     "output_type": "display_data"
    }
   ],
   "source": [
    "# Clean Mileage_Run\n",
    "\n",
    "plt.hist(df['Mileage_Run'], bins='auto')"
   ]
  },
  {
   "cell_type": "code",
   "execution_count": 16,
   "metadata": {},
   "outputs": [
    {
     "data": {
      "text/plain": [
       "(array([  4.,   7.,  35.,  35.,  50.,  75.,  74., 108.,  89.,  89., 102.,\n",
       "         78.,  69.,  66.,  43.,  52.]),\n",
       " array([ 33.42154993,  51.04697058,  68.67239123,  86.29781187,\n",
       "        103.92323252, 121.54865317, 139.17407381, 156.79949446,\n",
       "        174.42491511, 192.05033575, 209.6757564 , 227.30117705,\n",
       "        244.92659769, 262.55201834, 280.17743899, 297.80285963,\n",
       "        315.42828028]),\n",
       " <BarContainer object of 16 artists>)"
      ]
     },
     "execution_count": 16,
     "metadata": {},
     "output_type": "execute_result"
    },
    {
     "data": {
      "image/png": "[encoded data removed]",
      "text/plain": [
       "<Figure size 640x480 with 1 Axes>"
      ]
     },
     "metadata": {},
     "output_type": "display_data"
    }
   ],
   "source": [
    "# Applying a transformation to Mileage_Run\n",
    "\n",
    "df['sqrt_Mileage_Run'] = np.sqrt(df['Mileage_Run'])\n",
    "plt.hist(df['sqrt_Mileage_Run'], bins='auto')\n",
    "\n",
    "# this looks more normal; I also tried log and arcsinh transformations here but went with square root in the end because\n",
    "#  both log and arcsinh resulted in major negative skew"
   ]
  },
  {
   "cell_type": "code",
   "execution_count": 17,
   "metadata": {},
   "outputs": [
    {
     "data": {
      "text/plain": [
       "(array([  9.,  65., 103., 106., 106., 105., 102.,  94.,  73.,  40.,  46.,\n",
       "         33.,  15.,  11.,   6.,   8.,   4.,   4.,  10.,   6.,  10.,   5.,\n",
       "         13.,   1.,   0.,   0.,   0.,   0.,   0.,   0.,   0.,   0.,   0.,\n",
       "          1.]),\n",
       " array([ 188000.        ,  268970.58823529,  349941.17647059,\n",
       "         430911.76470588,  511882.35294118,  592852.94117647,\n",
       "         673823.52941176,  754794.11764706,  835764.70588235,\n",
       "         916735.29411765,  997705.88235294, 1078676.47058824,\n",
       "        1159647.05882353, 1240617.64705882, 1321588.23529412,\n",
       "        1402558.82352941, 1483529.41176471, 1564500.        ,\n",
       "        1645470.58823529, 1726441.17647059, 1807411.76470588,\n",
       "        1888382.35294118, 1969352.94117647, 2050323.52941176,\n",
       "        2131294.11764706, 2212264.70588235, 2293235.29411765,\n",
       "        2374205.88235294, 2455176.47058824, 2536147.05882353,\n",
       "        2617117.64705882, 2698088.23529412, 2779058.82352941,\n",
       "        2860029.41176471, 2941000.        ]),\n",
       " <BarContainer object of 34 artists>)"
      ]
     },
     "execution_count": 17,
     "metadata": {},
     "output_type": "execute_result"
    },
    {
     "data": {
      "image/png": "[encoded data removed]",
      "text/plain": [
       "<Figure size 640x480 with 1 Axes>"
      ]
     },
     "metadata": {},
     "output_type": "display_data"
    }
   ],
   "source": [
    "# Clean Price\n",
    "\n",
    "plt.hist(df['Price'],bins='auto')"
   ]
  },
  {
   "cell_type": "code",
   "execution_count": 18,
   "metadata": {},
   "outputs": [
    {
     "data": {
      "text/plain": [
       "(array([  1.,   1.,   8.,  15.,  41.,  40.,  74.,  83.,  78.,  83., 106.,\n",
       "        106., 100.,  70.,  69.,  24.,  18.,  12.,  21.,  24.,   1.,   0.,\n",
       "          1.]),\n",
       " array([12.83734442, 12.95691238, 13.07648033, 13.19604829, 13.31561624,\n",
       "        13.4351842 , 13.55475216, 13.67432011, 13.79388807, 13.91345602,\n",
       "        14.03302398, 14.15259193, 14.27215989, 14.39172784, 14.5112958 ,\n",
       "        14.63086375, 14.75043171, 14.86999967, 14.98956762, 15.10913558,\n",
       "        15.22870353, 15.34827149, 15.46783944, 15.5874074 ]),\n",
       " <BarContainer object of 23 artists>)"
      ]
     },
     "execution_count": 18,
     "metadata": {},
     "output_type": "execute_result"
    },
    {
     "data": {
      "image/png": "[encoded data removed]",
      "text/plain": [
       "<Figure size 640x480 with 1 Axes>"
      ]
     },
     "metadata": {},
     "output_type": "display_data"
    }
   ],
   "source": [
    "# Applying a transformation to Price\n",
    "\n",
    "df['arcsinh_Price'] = np.arcsinh(df['Price'])\n",
    "plt.hist(df['arcsinh_Price'], bins='auto')\n",
    "\n",
    "# this looks more normal and seems to have taken care of the outlier on the high end of the distribution"
   ]
  },
  {
   "cell_type": "markdown",
   "metadata": {},
   "source": [
    "#### 1.2"
   ]
  },
  {
   "cell_type": "code",
   "execution_count": 19,
   "metadata": {},
   "outputs": [
    {
     "data": {
      "text/plain": [
       "count    9.760000e+02\n",
       "mean     7.410195e+05\n",
       "std      3.673234e+05\n",
       "min      1.880000e+05\n",
       "25%      4.757500e+05\n",
       "50%      6.665000e+05\n",
       "75%      8.830000e+05\n",
       "max      2.941000e+06\n",
       "Name: Price, dtype: float64"
      ]
     },
     "execution_count": 19,
     "metadata": {},
     "output_type": "execute_result"
    }
   ],
   "source": [
    "# Summarize Price\n",
    "\n",
    "df['Price'].describe()"
   ]
  },
  {
   "cell_type": "code",
   "execution_count": 20,
   "metadata": {},
   "outputs": [
    {
     "data": {
      "text/plain": [
       "count    976.000000\n",
       "mean      14.104181\n",
       "std        0.450276\n",
       "min       12.837344\n",
       "25%       13.765795\n",
       "50%       14.102942\n",
       "75%       14.384228\n",
       "max       15.587407\n",
       "Name: arcsinh_Price, dtype: float64"
      ]
     },
     "execution_count": 20,
     "metadata": {},
     "output_type": "execute_result"
    }
   ],
   "source": [
    "df['arcsinh_Price'].describe()"
   ]
  },
  {
   "cell_type": "code",
   "execution_count": 21,
   "metadata": {},
   "outputs": [
    {
     "data": {
      "text/plain": [
       "<Axes: ylabel='Density'>"
      ]
     },
     "execution_count": 21,
     "metadata": {},
     "output_type": "execute_result"
    },
    {
     "data": {
      "image/png": "[encoded data removed]",
      "text/plain": [
       "<Figure size 640x480 with 1 Axes>"
      ]
     },
     "metadata": {},
     "output_type": "display_data"
    }
   ],
   "source": [
    "# Kernel density plot\n",
    "\n",
    "df['Price'].plot.density() # original values"
   ]
  },
  {
   "cell_type": "code",
   "execution_count": 22,
   "metadata": {},
   "outputs": [
    {
     "data": {
      "text/plain": [
       "<Axes: ylabel='Density'>"
      ]
     },
     "execution_count": 22,
     "metadata": {},
     "output_type": "execute_result"
    },
    {
     "data": {
      "image/png": "[encoded data removed]",
      "text/plain": [
       "<Figure size 640x480 with 1 Axes>"
      ]
     },
     "metadata": {},
     "output_type": "display_data"
    }
   ],
   "source": [
    "# again with transformed values\n",
    "\n",
    "df['arcsinh_Price'].plot.density()"
   ]
  },
  {
   "cell_type": "code",
   "execution_count": 23,
   "metadata": {},
   "outputs": [
    {
     "data": {
      "text/html": [
       "<div>\n",
       "<style scoped>\n",
       "    .dataframe tbody tr th:only-of-type {\n",
       "        vertical-align: middle;\n",
       "    }\n",
       "\n",
       "    .dataframe tbody tr th {\n",
       "        vertical-align: top;\n",
       "    }\n",
       "\n",
       "    .dataframe thead tr th {\n",
       "        text-align: left;\n",
       "    }\n",
       "\n",
       "    .dataframe thead tr:last-of-type th {\n",
       "        text-align: right;\n",
       "    }\n",
       "</style>\n",
       "<table border=\"1\" class=\"dataframe\">\n",
       "  <thead>\n",
       "    <tr>\n",
       "      <th></th>\n",
       "      <th colspan=\"8\" halign=\"left\">Price</th>\n",
       "    </tr>\n",
       "    <tr>\n",
       "      <th></th>\n",
       "      <th>count</th>\n",
       "      <th>mean</th>\n",
       "      <th>std</th>\n",
       "      <th>min</th>\n",
       "      <th>25%</th>\n",
       "      <th>50%</th>\n",
       "      <th>75%</th>\n",
       "      <th>max</th>\n",
       "    </tr>\n",
       "    <tr>\n",
       "      <th>Make</th>\n",
       "      <th></th>\n",
       "      <th></th>\n",
       "      <th></th>\n",
       "      <th></th>\n",
       "      <th></th>\n",
       "      <th></th>\n",
       "      <th></th>\n",
       "      <th></th>\n",
       "    </tr>\n",
       "  </thead>\n",
       "  <tbody>\n",
       "    <tr>\n",
       "      <th>Chevrolet</th>\n",
       "      <td>6.0</td>\n",
       "      <td>4.535000e+05</td>\n",
       "      <td>2.466064e+05</td>\n",
       "      <td>267000.0</td>\n",
       "      <td>288500.0</td>\n",
       "      <td>345500.0</td>\n",
       "      <td>537500.0</td>\n",
       "      <td>892000.0</td>\n",
       "    </tr>\n",
       "    <tr>\n",
       "      <th>Datsun</th>\n",
       "      <td>3.0</td>\n",
       "      <td>2.896667e+05</td>\n",
       "      <td>1.050397e+04</td>\n",
       "      <td>279000.0</td>\n",
       "      <td>284500.0</td>\n",
       "      <td>290000.0</td>\n",
       "      <td>295000.0</td>\n",
       "      <td>300000.0</td>\n",
       "    </tr>\n",
       "    <tr>\n",
       "      <th>Ford</th>\n",
       "      <td>52.0</td>\n",
       "      <td>7.211731e+05</td>\n",
       "      <td>1.409277e+05</td>\n",
       "      <td>290000.0</td>\n",
       "      <td>635000.0</td>\n",
       "      <td>707500.0</td>\n",
       "      <td>787000.0</td>\n",
       "      <td>1066000.0</td>\n",
       "    </tr>\n",
       "    <tr>\n",
       "      <th>Honda</th>\n",
       "      <td>73.0</td>\n",
       "      <td>7.989726e+05</td>\n",
       "      <td>2.665091e+05</td>\n",
       "      <td>316000.0</td>\n",
       "      <td>581000.0</td>\n",
       "      <td>785000.0</td>\n",
       "      <td>915000.0</td>\n",
       "      <td>1537000.0</td>\n",
       "    </tr>\n",
       "    <tr>\n",
       "      <th>Hyundai</th>\n",
       "      <td>305.0</td>\n",
       "      <td>6.918918e+05</td>\n",
       "      <td>2.791597e+05</td>\n",
       "      <td>248000.0</td>\n",
       "      <td>485000.0</td>\n",
       "      <td>638000.0</td>\n",
       "      <td>837000.0</td>\n",
       "      <td>1742000.0</td>\n",
       "    </tr>\n",
       "    <tr>\n",
       "      <th>Jeep</th>\n",
       "      <td>4.0</td>\n",
       "      <td>1.499500e+06</td>\n",
       "      <td>1.525134e+05</td>\n",
       "      <td>1290000.0</td>\n",
       "      <td>1447500.0</td>\n",
       "      <td>1529500.0</td>\n",
       "      <td>1581500.0</td>\n",
       "      <td>1649000.0</td>\n",
       "    </tr>\n",
       "    <tr>\n",
       "      <th>Kia</th>\n",
       "      <td>8.0</td>\n",
       "      <td>1.614750e+06</td>\n",
       "      <td>1.190567e+05</td>\n",
       "      <td>1369000.0</td>\n",
       "      <td>1579000.0</td>\n",
       "      <td>1628500.0</td>\n",
       "      <td>1705750.0</td>\n",
       "      <td>1741000.0</td>\n",
       "    </tr>\n",
       "    <tr>\n",
       "      <th>MG Motors</th>\n",
       "      <td>35.0</td>\n",
       "      <td>1.869457e+06</td>\n",
       "      <td>1.216611e+05</td>\n",
       "      <td>1589000.0</td>\n",
       "      <td>1786500.0</td>\n",
       "      <td>1848000.0</td>\n",
       "      <td>1978000.0</td>\n",
       "      <td>2019000.0</td>\n",
       "    </tr>\n",
       "    <tr>\n",
       "      <th>Mahindra</th>\n",
       "      <td>18.0</td>\n",
       "      <td>1.100167e+06</td>\n",
       "      <td>1.755493e+05</td>\n",
       "      <td>796000.0</td>\n",
       "      <td>1037000.0</td>\n",
       "      <td>1094500.0</td>\n",
       "      <td>1157000.0</td>\n",
       "      <td>1465000.0</td>\n",
       "    </tr>\n",
       "    <tr>\n",
       "      <th>Maruti Suzuki</th>\n",
       "      <td>293.0</td>\n",
       "      <td>5.887850e+05</td>\n",
       "      <td>2.160199e+05</td>\n",
       "      <td>237000.0</td>\n",
       "      <td>411000.0</td>\n",
       "      <td>527000.0</td>\n",
       "      <td>764000.0</td>\n",
       "      <td>1163000.0</td>\n",
       "    </tr>\n",
       "    <tr>\n",
       "      <th>Nissan</th>\n",
       "      <td>4.0</td>\n",
       "      <td>8.842500e+05</td>\n",
       "      <td>2.895599e+05</td>\n",
       "      <td>475000.0</td>\n",
       "      <td>782500.0</td>\n",
       "      <td>978000.0</td>\n",
       "      <td>1079750.0</td>\n",
       "      <td>1106000.0</td>\n",
       "    </tr>\n",
       "    <tr>\n",
       "      <th>Renault</th>\n",
       "      <td>68.0</td>\n",
       "      <td>6.625735e+05</td>\n",
       "      <td>2.148273e+05</td>\n",
       "      <td>287000.0</td>\n",
       "      <td>475000.0</td>\n",
       "      <td>644000.0</td>\n",
       "      <td>801000.0</td>\n",
       "      <td>1164000.0</td>\n",
       "    </tr>\n",
       "    <tr>\n",
       "      <th>Skoda</th>\n",
       "      <td>5.0</td>\n",
       "      <td>1.136000e+06</td>\n",
       "      <td>1.070175e+06</td>\n",
       "      <td>436000.0</td>\n",
       "      <td>466000.0</td>\n",
       "      <td>538000.0</td>\n",
       "      <td>1299000.0</td>\n",
       "      <td>2941000.0</td>\n",
       "    </tr>\n",
       "    <tr>\n",
       "      <th>Tata</th>\n",
       "      <td>23.0</td>\n",
       "      <td>1.055217e+06</td>\n",
       "      <td>5.578305e+05</td>\n",
       "      <td>188000.0</td>\n",
       "      <td>779500.0</td>\n",
       "      <td>869000.0</td>\n",
       "      <td>1552000.0</td>\n",
       "      <td>2100000.0</td>\n",
       "    </tr>\n",
       "    <tr>\n",
       "      <th>Toyota</th>\n",
       "      <td>50.0</td>\n",
       "      <td>8.003400e+05</td>\n",
       "      <td>2.466900e+05</td>\n",
       "      <td>368000.0</td>\n",
       "      <td>526250.0</td>\n",
       "      <td>894000.0</td>\n",
       "      <td>1023000.0</td>\n",
       "      <td>1092000.0</td>\n",
       "    </tr>\n",
       "    <tr>\n",
       "      <th>Volkswagen</th>\n",
       "      <td>29.0</td>\n",
       "      <td>6.058276e+05</td>\n",
       "      <td>1.198312e+05</td>\n",
       "      <td>402000.0</td>\n",
       "      <td>542000.0</td>\n",
       "      <td>607000.0</td>\n",
       "      <td>699000.0</td>\n",
       "      <td>790000.0</td>\n",
       "    </tr>\n",
       "  </tbody>\n",
       "</table>\n",
       "</div>"
      ],
      "text/plain": [
       "               Price                                                    \\\n",
       "               count          mean           std        min        25%   \n",
       "Make                                                                     \n",
       "Chevrolet        6.0  4.535000e+05  2.466064e+05   267000.0   288500.0   \n",
       "Datsun           3.0  2.896667e+05  1.050397e+04   279000.0   284500.0   \n",
       "Ford            52.0  7.211731e+05  1.409277e+05   290000.0   635000.0   \n",
       "Honda           73.0  7.989726e+05  2.665091e+05   316000.0   581000.0   \n",
       "Hyundai        305.0  6.918918e+05  2.791597e+05   248000.0   485000.0   \n",
       "Jeep             4.0  1.499500e+06  1.525134e+05  1290000.0  1447500.0   \n",
       "Kia              8.0  1.614750e+06  1.190567e+05  1369000.0  1579000.0   \n",
       "MG Motors       35.0  1.869457e+06  1.216611e+05  1589000.0  1786500.0   \n",
       "Mahindra        18.0  1.100167e+06  1.755493e+05   796000.0  1037000.0   \n",
       "Maruti Suzuki  293.0  5.887850e+05  2.160199e+05   237000.0   411000.0   \n",
       "Nissan           4.0  8.842500e+05  2.895599e+05   475000.0   782500.0   \n",
       "Renault         68.0  6.625735e+05  2.148273e+05   287000.0   475000.0   \n",
       "Skoda            5.0  1.136000e+06  1.070175e+06   436000.0   466000.0   \n",
       "Tata            23.0  1.055217e+06  5.578305e+05   188000.0   779500.0   \n",
       "Toyota          50.0  8.003400e+05  2.466900e+05   368000.0   526250.0   \n",
       "Volkswagen      29.0  6.058276e+05  1.198312e+05   402000.0   542000.0   \n",
       "\n",
       "                                                \n",
       "                     50%        75%        max  \n",
       "Make                                            \n",
       "Chevrolet       345500.0   537500.0   892000.0  \n",
       "Datsun          290000.0   295000.0   300000.0  \n",
       "Ford            707500.0   787000.0  1066000.0  \n",
       "Honda           785000.0   915000.0  1537000.0  \n",
       "Hyundai         638000.0   837000.0  1742000.0  \n",
       "Jeep           1529500.0  1581500.0  1649000.0  \n",
       "Kia            1628500.0  1705750.0  1741000.0  \n",
       "MG Motors      1848000.0  1978000.0  2019000.0  \n",
       "Mahindra       1094500.0  1157000.0  1465000.0  \n",
       "Maruti Suzuki   527000.0   764000.0  1163000.0  \n",
       "Nissan          978000.0  1079750.0  1106000.0  \n",
       "Renault         644000.0   801000.0  1164000.0  \n",
       "Skoda           538000.0  1299000.0  2941000.0  \n",
       "Tata            869000.0  1552000.0  2100000.0  \n",
       "Toyota          894000.0  1023000.0  1092000.0  \n",
       "Volkswagen      607000.0   699000.0   790000.0  "
      ]
     },
     "execution_count": 23,
     "metadata": {},
     "output_type": "execute_result"
    }
   ],
   "source": [
    "# Using groupby() and describe() to summarize prices by brand\n",
    "\n",
    "df.loc[:,['Make','Price']].groupby('Make').describe()"
   ]
  },
  {
   "cell_type": "code",
   "execution_count": 24,
   "metadata": {},
   "outputs": [
    {
     "data": {
      "text/plain": [
       "<Axes: ylabel='Density'>"
      ]
     },
     "execution_count": 24,
     "metadata": {},
     "output_type": "execute_result"
    },
    {
     "data": {
      "image/png": "[encoded data removed]",
      "text/plain": [
       "<Figure size 640x480 with 1 Axes>"
      ]
     },
     "metadata": {},
     "output_type": "display_data"
    }
   ],
   "source": [
    "# Grouped kernel density plot using arcsinh_Price\n",
    "\n",
    "group_by = 'Make'\n",
    "var = 'arcsinh_Price'\n",
    "df_wide = df.pivot(columns=group_by,values=var)\n",
    "df_wide.plot.density() # all Makes"
   ]
  },
  {
   "cell_type": "markdown",
   "metadata": {},
   "source": [
    "It looks like MG Motors are the most expensive, followed by Kias and Jeeps. Certain brands seem to have more variation in their pricing, such as Tata, Skoda and Nissan, whereas other brands have prices closely clustered around a certain range, such as MG Motors, Kia, and Datsun. "
   ]
  },
  {
   "cell_type": "markdown",
   "metadata": {},
   "source": [
    "#### 1.3"
   ]
  },
  {
   "cell_type": "code",
   "execution_count": 25,
   "metadata": {},
   "outputs": [],
   "source": [
    "# Split into 80/20 train/test sets\n",
    "vars = ['Make','Age','Color','Body_Type','No_of_Owners','Seating_Capacity','Fuel_Type','Transmission','Transmission_Type','sqrt_Mileage_Run']\n",
    "X = df.loc[:,vars]\n",
    "y = df['arcsinh_Price']\n",
    "Train_X, Test_X, Train_y, Test_y = train_test_split(X,y,test_size=.2,random_state=10)"
   ]
  },
  {
   "cell_type": "markdown",
   "metadata": {},
   "source": [
    "#### 1.4"
   ]
  },
  {
   "cell_type": "code",
   "execution_count": 26,
   "metadata": {},
   "outputs": [],
   "source": [
    "def rmse(SSE, n): # function for calculating RMSE given SSE\n",
    "    return np.sqrt(SSE*(1/n))"
   ]
  },
  {
   "cell_type": "code",
   "execution_count": 27,
   "metadata": {},
   "outputs": [
    {
     "name": "stdout",
     "output_type": "stream",
     "text": [
      "The R squared value for the test set is 0.44176121642491395\n",
      "The RMSE for the test set is 0.32190678105536963\n"
     ]
    }
   ],
   "source": [
    "# First model: regress price on numeric variables\n",
    "\n",
    "vars = ['sqrt_Mileage_Run','Age','Seating_Capacity','No_of_Owners'] # numeric variables\n",
    "\n",
    "X = Train_X.loc[:,vars]\n",
    "y = Train_y\n",
    "\n",
    "reg = LinearRegression().fit(X,y) # run the regression on train data\n",
    "\n",
    "X = Test_X.loc[:,vars]\n",
    "y = Test_y\n",
    "print(f\"The R squared value for the test set is {reg.score(X,y)}\")\n",
    "\n",
    "errors = (y - reg.predict(X))**2\n",
    "SSE = errors.sum()\n",
    "print(f\"The RMSE for the test set is {rmse(SSE,len(y))}\")"
   ]
  },
  {
   "cell_type": "code",
   "execution_count": 28,
   "metadata": {},
   "outputs": [
    {
     "name": "stdout",
     "output_type": "stream",
     "text": [
      "The R squared value for the test set is 0.5972301046887607\n",
      "The RMSE for the test set is 0.2734315494633899\n"
     ]
    }
   ],
   "source": [
    "# Second model: regress price on one-hot encoded categorical variables\n",
    "# I'm redoing the train-test split here to ensure the features align in the train and test sets\n",
    "\n",
    "vars = ['Make','Color','Body_Type','Fuel_Type','Transmission','Transmission_Type'] # categorical variables\n",
    "X_pre = df.loc[:,vars]\n",
    "X = pd.get_dummies(X_pre)\n",
    "y = df['arcsinh_Price']\n",
    "\n",
    "Train_X, Test_X, Train_y, Test_y = train_test_split(X,y,test_size=.2,random_state=10) # split\n",
    "\n",
    "reg = LinearRegression(fit_intercept=False).fit(Train_X,Train_y) # run the regression, drop the intercept\n",
    "\n",
    "print(f\"The R squared value for the test set is {reg.score(Test_X,Test_y)}\")\n",
    "errors = (Test_y - reg.predict(Test_X))**2\n",
    "SSE = errors.sum()\n",
    "print(f\"The RMSE for the test set is {rmse(SSE,len(Test_y))}\")"
   ]
  },
  {
   "cell_type": "markdown",
   "metadata": {},
   "source": [
    "The categorical model performed better."
   ]
  },
  {
   "cell_type": "code",
   "execution_count": 29,
   "metadata": {},
   "outputs": [
    {
     "name": "stdout",
     "output_type": "stream",
     "text": [
      "The R squared value for the test set is 0.808415116011341\n",
      "The RMSE for the test set is 0.18858221940807343\n"
     ]
    }
   ],
   "source": [
    "# Third model: combine all regressors from first two models\n",
    "\n",
    "num_vars = ['sqrt_Mileage_Run','Age','Seating_Capacity','No_of_Owners']\n",
    "cat_vars = ['Make','Color','Body_Type','Fuel_Type','Transmission','Transmission_Type']\n",
    "\n",
    "X_cat_pre = df.loc[:,cat_vars]\n",
    "X1 = pd.get_dummies(X_cat_pre)\n",
    "X2 = df.loc[:,num_vars]\n",
    "X = pd.concat([X1,X2],axis=1) # getting the set of predictors\n",
    "y = df['arcsinh_Price']\n",
    "\n",
    "# redoing the split again:\n",
    "Train_X, Test_X, Train_y, Test_y = train_test_split(X,y,test_size=.2,random_state=10)\n",
    "\n",
    "reg = LinearRegression(fit_intercept=False).fit(Train_X,Train_y) # run the regression, drop the intercept\n",
    "\n",
    "print(f\"The R squared value for the test set is {reg.score(Test_X,Test_y)}\")\n",
    "errors = (Test_y - reg.predict(Test_X))**2\n",
    "SSE = errors.sum()\n",
    "print(f\"The RMSE for the test set is {rmse(SSE,len(Test_y))}\")"
   ]
  },
  {
   "cell_type": "markdown",
   "metadata": {},
   "source": [
    "The joint model performs the best on the train data, with an R squared of 0.808 and the lowest RMSE of the three models. The R squared value is almost twice that of the model with only numeric variables, and about 0.20 higher than the categorical model. "
   ]
  },
  {
   "cell_type": "markdown",
   "metadata": {},
   "source": [
    "#### 1.5"
   ]
  },
  {
   "cell_type": "code",
   "execution_count": 30,
   "metadata": {},
   "outputs": [
    {
     "name": "stdout",
     "output_type": "stream",
     "text": [
      "R squared: 0.8302833892154858\n",
      "RMSE: 0.17749343635394446\n"
     ]
    }
   ],
   "source": [
    "from sklearn.preprocessing import PolynomialFeatures\n",
    "\n",
    "# Gonna do the poly expansion first, then combine with one-hot encoded categoricals, and then split\n",
    "# Have to keep 'Unnamed: 0' in both cat and num sets to merge them on after expanding numerics, then will drop this column\n",
    "\n",
    "num_vars = ['sqrt_Mileage_Run','Age','Seating_Capacity','No_of_Owners','Unnamed: 0']\n",
    "cat_vars = ['Make','Color','Body_Type','Fuel_Type','Transmission','Transmission_Type','Unnamed: 0']\n",
    "X1 = df.loc[:,cat_vars]\n",
    "X1 = pd.get_dummies(X1) # one-hot categorical dataframe\n",
    "X2 = df.loc[:,num_vars] # numeric dataframe\n",
    "y = df['arcsinh_Price']\n",
    "\n",
    "# DEGREE 2:\n",
    "expander = PolynomialFeatures(degree=2,include_bias=False) # Create the expander\n",
    "Z = expander.fit_transform(X2) # Pass the df into the expander to get powers/interactions of x and y\n",
    "names = expander.get_feature_names_out() # Get the names of these variables\n",
    "zdf = pd.DataFrame(data=Z, columns = names) # Create a new, expanded dataframe\n",
    "\n",
    "X = pd.merge(zdf,X1, on = 'Unnamed: 0')\n",
    "\n",
    "cols = list(X.columns)\n",
    "newcols = []\n",
    "for name in cols:\n",
    "    if 'Unn' not in name:\n",
    "        newcols.append(name)\n",
    "\n",
    "X = X[newcols] # full set of predictors; ready to do the split\n",
    "\n",
    "Train_X, Test_X, Train_y, Test_y = train_test_split(X,y,test_size=.2,random_state=10)\n",
    "\n",
    "reg = LinearRegression(fit_intercept=False).fit(Train_X,Train_y) # run the model\n",
    "print(f\"R squared: {reg.score(Test_X,Test_y)}\")\n",
    "errors = (Test_y - reg.predict(Test_X))**2\n",
    "SSE = errors.sum()\n",
    "print(f\"RMSE: {rmse(SSE,len(Test_y))}\")\n",
    "\n",
    "# for plotting:\n",
    "predictions = reg.predict(Test_X)\n",
    "actuals = Test_y"
   ]
  },
  {
   "cell_type": "code",
   "execution_count": 31,
   "metadata": {},
   "outputs": [
    {
     "name": "stdout",
     "output_type": "stream",
     "text": [
      "R squared: -37637759157.973564\n",
      "RMSE: 83585.70346851122\n"
     ]
    }
   ],
   "source": [
    "# DEGREE 3:\n",
    "expander = PolynomialFeatures(degree=3,include_bias=False) # Create the expander\n",
    "Z = expander.fit_transform(X2) # Pass the df into the expander to get powers/interactions of x and y\n",
    "names = expander.get_feature_names_out() # Get the names of these variables\n",
    "zdf = pd.DataFrame(data=Z, columns = names) # Create a new, expanded dataframe\n",
    "\n",
    "X = pd.merge(zdf,X1, on = 'Unnamed: 0')\n",
    "\n",
    "cols = list(X.columns)\n",
    "newcols = []\n",
    "for name in cols:\n",
    "    if 'Unn' not in name:\n",
    "        newcols.append(name)\n",
    "\n",
    "X = X[newcols] # full set of predictors; ready to do the split\n",
    "\n",
    "Train_X, Test_X, Train_y, Test_y = train_test_split(X,y,test_size=.2,random_state=10)\n",
    "\n",
    "reg = LinearRegression(fit_intercept=False).fit(Train_X,Train_y) # run the model\n",
    "print(f\"R squared: {reg.score(Test_X,Test_y)}\")\n",
    "errors = (Test_y - reg.predict(Test_X))**2\n",
    "SSE = errors.sum()\n",
    "print(f\"RMSE: {rmse(SSE,len(Test_y))}\")"
   ]
  },
  {
   "cell_type": "markdown",
   "metadata": {},
   "source": [
    "R squared goes negative for the test set at degree=3. The best results came from an expanded model with degree 2, which had an R-sq of 0.83 and an RMSE of 0.17. This is the best R-sq value I've obtained from any of my models in this section, but is only about 0.02 higher than the R-sq from the joint model without poly expansions. "
   ]
  },
  {
   "cell_type": "markdown",
   "metadata": {},
   "source": [
    "#### 1.6"
   ]
  },
  {
   "cell_type": "code",
   "execution_count": 32,
   "metadata": {},
   "outputs": [
    {
     "data": {
      "text/plain": [
       "Text(0.5, 1.0, 'Model Predictions vs Actual Values for Arcsinh Price')"
      ]
     },
     "execution_count": 32,
     "metadata": {},
     "output_type": "execute_result"
    },
    {
     "data": {
      "image/png": "[encoded data removed]",
      "text/plain": [
       "<Figure size 640x480 with 1 Axes>"
      ]
     },
     "metadata": {},
     "output_type": "display_data"
    }
   ],
   "source": [
    "# best model was combination of one-hot categoricals and numerics expanded to a degree of 2\n",
    "plt.scatter(actuals,predictions)\n",
    "plt.xlabel('Actual Arcsinh Price Values')\n",
    "plt.ylabel('Model Predicted Arcsinh Price Values')\n",
    "plt.title('Model Predictions vs Actual Values for Arcsinh Price')"
   ]
  },
  {
   "cell_type": "markdown",
   "metadata": {},
   "source": [
    "The predicted and true values do roughly line up along the diagonal."
   ]
  },
  {
   "cell_type": "code",
   "execution_count": 33,
   "metadata": {},
   "outputs": [
    {
     "data": {
      "text/plain": [
       "Text(0.5, 1.0, 'Distribution of Residuals')"
      ]
     },
     "execution_count": 33,
     "metadata": {},
     "output_type": "execute_result"
    },
    {
     "data": {
      "image/png": "[encoded data removed]",
      "text/plain": [
       "<Figure size 640x480 with 1 Axes>"
      ]
     },
     "metadata": {},
     "output_type": "display_data"
    }
   ],
   "source": [
    "residuals = actuals - predictions\n",
    "residuals.plot.density()\n",
    "plt.xlabel('Residuals')\n",
    "plt.ylabel('Frequency')\n",
    "plt.title('Distribution of Residuals')"
   ]
  },
  {
   "cell_type": "markdown",
   "metadata": {},
   "source": [
    "The residuals do look approximately bell-shaped around 0. In hindsight, I think I could probably have reduced the number of categorical features when cleaning in order to reduce potential overfitting of the models. I think fewer predictors might have better results. However, my model seems to be pretty decent, with roughly normally distributed residuals and a notable diagonal present in the predictions vs actual values plot. "
   ]
  },
  {
   "cell_type": "markdown",
   "metadata": {},
   "source": [
    "#### 1.7"
   ]
  },
  {
   "cell_type": "code",
   "execution_count": 46,
   "metadata": {},
   "outputs": [],
   "source": [
    "cat_vars = ['Make','Body_Type','Color'] # got rid of transmission related vars and fuel type; just wanted to keep the most salient ones\n",
    "num_vars = ['sqrt_Mileage_Run','Age','Seating_Capacity','No_of_Owners']\n",
    "X1 = df.loc[:,cat_vars]\n",
    "X1 = pd.get_dummies(X1)\n",
    "X2 = df.loc[:,num_vars]\n",
    "X = pd.concat([X1,X2],axis=1)\n",
    "y = df['arcsinh_Price']\n",
    "\n",
    "# doing the split:\n",
    "Train_X, Test_X, Train_y, Test_y = train_test_split(X,y,test_size=.2,random_state=10)\n",
    "\n",
    "depths = [3,4,5,6,7,8,9,10,11,12,13,14,15,16]\n",
    "rsqs = []\n",
    "rmses = []\n",
    "for depth in depths:\n",
    "    model = tree.DecisionTreeRegressor(max_depth=depth)\n",
    "    cart = model.fit(Train_X, Train_y)\n",
    "    y_hat = cart.predict(Test_X)\n",
    "    SSE = np.sum( (Test_y-y_hat)**2 )\n",
    "    RMSE = rmse(SSE,len(Test_y))\n",
    "    rmses.append(RMSE)\n",
    "    TSS = np.sum( (Test_y - Train_y.mean())**2 )\n",
    "    rsq = 1 - SSE/TSS\n",
    "    rsqs.append(rsq)\n"
   ]
  },
  {
   "cell_type": "code",
   "execution_count": 47,
   "metadata": {},
   "outputs": [
    {
     "data": {
      "text/plain": [
       "[0.6628080232107263,\n",
       " 0.6895528280060916,\n",
       " 0.7302133662821308,\n",
       " 0.7614792250369098,\n",
       " 0.7538532554912709,\n",
       " 0.7409106161787362,\n",
       " 0.7367218606967271,\n",
       " 0.7267775113180517,\n",
       " 0.6999276510527053,\n",
       " 0.705406504489785,\n",
       " 0.6910544611261925,\n",
       " 0.7063080067497964,\n",
       " 0.7114292320772082,\n",
       " 0.7067446538199706]"
      ]
     },
     "execution_count": 47,
     "metadata": {},
     "output_type": "execute_result"
    }
   ],
   "source": [
    "rsqs"
   ]
  },
  {
   "cell_type": "code",
   "execution_count": 48,
   "metadata": {},
   "outputs": [
    {
     "data": {
      "text/plain": [
       "[0.250342713784628,\n",
       " 0.2402095079473713,\n",
       " 0.22392704765041174,\n",
       " 0.21055203606385456,\n",
       " 0.21389143182476594,\n",
       " 0.21944270532100177,\n",
       " 0.22120948240579616,\n",
       " 0.22534844262394382,\n",
       " 0.23616162504254823,\n",
       " 0.23399572138054814,\n",
       " 0.23962785698058692,\n",
       " 0.2336374152646458,\n",
       " 0.2315914421696439,\n",
       " 0.23346367024956305]"
      ]
     },
     "execution_count": 48,
     "metadata": {},
     "output_type": "execute_result"
    }
   ],
   "source": [
    "rmses"
   ]
  },
  {
   "cell_type": "markdown",
   "metadata": {},
   "source": [
    "The best R squared value obtained here was ~0.761 with a corresponding RMSE of ~0.211. This occurred with a depth of 6. I think that a different selection of variables or possibly fewer features might have resulted in a better model. "
   ]
  },
  {
   "cell_type": "markdown",
   "metadata": {},
   "source": [
    "#### 1.8\n",
    "For your best tree, determine the predicted values for the test data, and plot them against the true values. Do the predicted values and true values line up along the diagonal, or not? Compute the residuals/errors for the test data and create a kernel density plot. Do the residuals look roughly bell-shaped around zero?"
   ]
  },
  {
   "cell_type": "code",
   "execution_count": 50,
   "metadata": {},
   "outputs": [
    {
     "data": {
      "text/plain": [
       "Text(0.5, 1.0, 'Tree Predicted Values vs Actual Values')"
      ]
     },
     "execution_count": 50,
     "metadata": {},
     "output_type": "execute_result"
    },
    {
     "data": {
      "image/png": "[encoded data removed]",
      "text/plain": [
       "<Figure size 640x480 with 1 Axes>"
      ]
     },
     "metadata": {},
     "output_type": "display_data"
    }
   ],
   "source": [
    "model = tree.DecisionTreeRegressor(max_depth=6)\n",
    "cart = model.fit(Train_X, Train_y)\n",
    "predictions = cart.predict(Test_X)\n",
    "residuals = Test_y - predictions\n",
    "plt.scatter(Test_y,predictions)\n",
    "plt.xlabel('Actual Values')\n",
    "plt.ylabel('Predicted Values')\n",
    "plt.title('Tree Predicted Values vs Actual Values')"
   ]
  },
  {
   "cell_type": "markdown",
   "metadata": {},
   "source": [
    "The predicted values and true values roughly form a diagonal, but it is not a clean line."
   ]
  },
  {
   "cell_type": "code",
   "execution_count": 51,
   "metadata": {},
   "outputs": [
    {
     "data": {
      "text/plain": [
       "Text(0.5, 1.0, 'Distribution of Residuals')"
      ]
     },
     "execution_count": 51,
     "metadata": {},
     "output_type": "execute_result"
    },
    {
     "data": {
      "image/png": "[encoded data removed]",
      "text/plain": [
       "<Figure size 640x480 with 1 Axes>"
      ]
     },
     "metadata": {},
     "output_type": "display_data"
    }
   ],
   "source": [
    "residuals.plot.density()\n",
    "plt.xlabel('Residuals')\n",
    "plt.ylabel('Frequency')\n",
    "plt.title('Distribution of Residuals')"
   ]
  },
  {
   "cell_type": "markdown",
   "metadata": {},
   "source": [
    "The residuals look roughly bell shaped, but there is a small blip around -0.6. I'm not really sure why this is. "
   ]
  },
  {
   "cell_type": "markdown",
   "metadata": {},
   "source": [
    "#### 1.9"
   ]
  },
  {
   "cell_type": "markdown",
   "metadata": {},
   "source": [
    "My best linear model has better performance on the test set than my best tree. "
   ]
  },
  {
   "cell_type": "markdown",
   "metadata": {},
   "source": [
    "**Q2.** The is a question about regression using decision trees and linear models. The data include wages at data science-y jobs, including\n",
    "\n",
    "  - `Rating`: Company worker happiness score\n",
    "  - `Size`: Number of employees\n",
    "  - `Sector`: Part of the economy\n",
    "  - `avg_salary`: Average wage\n",
    "  - `job_state`: Location of work\n",
    "\n",
    "  1. Load the `wages_hw.csv` file. Split the sample into an ~80% training set and a ~20% test set. Do any necessary cleaning, including outliers and missings.\n",
    "  2. Use a linear model to regress `avg_salary` on `Sector`. Which sectors have the highest predicted wages? What is the $R^2$ and `RMSE` on the test set? \n",
    "  3. Make a scatterplot of `avg_salary` and `Rating`. Is there an obvious visual relationship between the two variables? Regress `avg_salary` on `Rating` as a numeric variable: Do higher ratings predict higher or lower wages? Convert `Rating` to a one-hot encoded variable, with a category for each rating. Run a regression of `avg_salary` on the categorical version. How do your results change? Explain. Which version has a higher $R^2$ and lower `RMSE`?\n",
    "  4. Now interact `Sector` with the categorical version of `Rating`, so your regressors are a (Sector, Rating) pair; this is a programming puzzle you'll have to think about, but using the `.PolynomialFeatures()` function on the one-hot encoded categorical variables is one option, and another is pre-processing a new variable that interacts `Sector` and `Rating` and then one-hot encoding the result. Regress `avg_salary` on the (Sector, Rating) pairs. How does the $R^2$ and `RMSE` on the test set compare to part 2? Interpret the coefficients; which sector-rating pairs have the highest wages?\n",
    "  5. Run a linear regression of `avg_salary` on all the variables. What is the $R^2$ on the test set? How does it compare to your simpler models in 2--4? \n",
    "  6. Build a decision tree by regressing `avg_salary` on `Sector`, `Rating`, and the (Sector, Rating) pairs. What are the $R^2$ and `RMSE` of your models on the test set? How do your answers compare to parts 2, 3, and 4?\n",
    "  7. Build a decision tree by regressing `avg_salary` on all the other variables. What is the $R^2$ and `RMSE` on the test set?\n",
    "  8. Build a linear regression or decision tree using the available variables based on your own judgment. What degrees of freedom are you giving the model to predict variation in wages across company and location attributes? What is the $R^2$ and `RMSE` of your model? How does it compare to the previous ones in the question? Why does yours perform better or worse on the test set?"
   ]
  },
  {
   "cell_type": "markdown",
   "metadata": {},
   "source": [
    "#### 2.1\n",
    "Load the wages_hw.csv file. Split the sample into an ~80% training set and a ~20% test set. Do any necessary cleaning, including outliers and missings."
   ]
  },
  {
   "cell_type": "code",
   "execution_count": 2,
   "metadata": {},
   "outputs": [],
   "source": [
    "df = pd.read_csv('data/wages_hw.csv')"
   ]
  },
  {
   "cell_type": "code",
   "execution_count": 3,
   "metadata": {},
   "outputs": [
    {
     "name": "stdout",
     "output_type": "stream",
     "text": [
      "<class 'pandas.core.frame.DataFrame'>\n",
      "RangeIndex: 731 entries, 0 to 730\n",
      "Data columns (total 6 columns):\n",
      " #   Column      Non-Null Count  Dtype  \n",
      "---  ------      --------------  -----  \n",
      " 0   Unnamed: 0  731 non-null    int64  \n",
      " 1   Rating      731 non-null    float64\n",
      " 2   Size        731 non-null    object \n",
      " 3   Sector      731 non-null    object \n",
      " 4   avg_salary  731 non-null    float64\n",
      " 5   job_state   731 non-null    object \n",
      "dtypes: float64(2), int64(1), object(3)\n",
      "memory usage: 34.4+ KB\n"
     ]
    }
   ],
   "source": [
    "df.info()"
   ]
  },
  {
   "cell_type": "code",
   "execution_count": 4,
   "metadata": {},
   "outputs": [
    {
     "data": {
      "text/html": [
       "<div>\n",
       "<style scoped>\n",
       "    .dataframe tbody tr th:only-of-type {\n",
       "        vertical-align: middle;\n",
       "    }\n",
       "\n",
       "    .dataframe tbody tr th {\n",
       "        vertical-align: top;\n",
       "    }\n",
       "\n",
       "    .dataframe thead th {\n",
       "        text-align: right;\n",
       "    }\n",
       "</style>\n",
       "<table border=\"1\" class=\"dataframe\">\n",
       "  <thead>\n",
       "    <tr style=\"text-align: right;\">\n",
       "      <th></th>\n",
       "      <th>Unnamed: 0</th>\n",
       "      <th>Rating</th>\n",
       "      <th>Size</th>\n",
       "      <th>Sector</th>\n",
       "      <th>avg_salary</th>\n",
       "      <th>job_state</th>\n",
       "    </tr>\n",
       "  </thead>\n",
       "  <tbody>\n",
       "    <tr>\n",
       "      <th>0</th>\n",
       "      <td>1</td>\n",
       "      <td>3.8</td>\n",
       "      <td>501 to 1000 employees</td>\n",
       "      <td>Aerospace &amp; Defense</td>\n",
       "      <td>72.0</td>\n",
       "      <td>NM</td>\n",
       "    </tr>\n",
       "    <tr>\n",
       "      <th>1</th>\n",
       "      <td>2</td>\n",
       "      <td>3.4</td>\n",
       "      <td>10000+ employees</td>\n",
       "      <td>Health Care</td>\n",
       "      <td>87.5</td>\n",
       "      <td>MD</td>\n",
       "    </tr>\n",
       "    <tr>\n",
       "      <th>2</th>\n",
       "      <td>3</td>\n",
       "      <td>4.8</td>\n",
       "      <td>501 to 1000 employees</td>\n",
       "      <td>Business Services</td>\n",
       "      <td>85.0</td>\n",
       "      <td>FL</td>\n",
       "    </tr>\n",
       "    <tr>\n",
       "      <th>3</th>\n",
       "      <td>4</td>\n",
       "      <td>3.8</td>\n",
       "      <td>1001 to 5000 employees</td>\n",
       "      <td>Oil, Gas, Energy &amp; Utilities</td>\n",
       "      <td>76.5</td>\n",
       "      <td>WA</td>\n",
       "    </tr>\n",
       "    <tr>\n",
       "      <th>4</th>\n",
       "      <td>5</td>\n",
       "      <td>2.9</td>\n",
       "      <td>51 to 200 employees</td>\n",
       "      <td>Business Services</td>\n",
       "      <td>114.5</td>\n",
       "      <td>NY</td>\n",
       "    </tr>\n",
       "  </tbody>\n",
       "</table>\n",
       "</div>"
      ],
      "text/plain": [
       "   Unnamed: 0  Rating                    Size                        Sector  \\\n",
       "0           1     3.8   501 to 1000 employees           Aerospace & Defense   \n",
       "1           2     3.4        10000+ employees                   Health Care   \n",
       "2           3     4.8   501 to 1000 employees             Business Services   \n",
       "3           4     3.8  1001 to 5000 employees  Oil, Gas, Energy & Utilities   \n",
       "4           5     2.9     51 to 200 employees             Business Services   \n",
       "\n",
       "   avg_salary job_state  \n",
       "0        72.0        NM  \n",
       "1        87.5        MD  \n",
       "2        85.0        FL  \n",
       "3        76.5        WA  \n",
       "4       114.5        NY  "
      ]
     },
     "execution_count": 4,
     "metadata": {},
     "output_type": "execute_result"
    }
   ],
   "source": [
    "df.head()"
   ]
  },
  {
   "cell_type": "code",
   "execution_count": 5,
   "metadata": {},
   "outputs": [
    {
     "data": {
      "text/plain": [
       "1001 to 5000 employees     150\n",
       "501 to 1000 employees      134\n",
       "10000+ employees           130\n",
       "201 to 500 employees       116\n",
       "51 to 200 employees         92\n",
       "5001 to 10000 employees     76\n",
       "1 to 50 employees           31\n",
       "Name: Size, dtype: int64"
      ]
     },
     "execution_count": 5,
     "metadata": {},
     "output_type": "execute_result"
    }
   ],
   "source": [
    "# Cleaning Size\n",
    "\n",
    "df.loc[df['Size'] == 'Unknown', 'Size'] = np.nan\n",
    "df = df.dropna() # just dropping the two rows with unknown size\n",
    "df['Size'].value_counts()"
   ]
  },
  {
   "cell_type": "code",
   "execution_count": 6,
   "metadata": {},
   "outputs": [],
   "source": [
    "# Cleaning job_state\n",
    "\n",
    "df.loc[df['job_state'] == ' Los Angeles', 'job_state'] = ' CA'"
   ]
  },
  {
   "cell_type": "code",
   "execution_count": 7,
   "metadata": {},
   "outputs": [
    {
     "name": "stderr",
     "output_type": "stream",
     "text": [
      "/tmp/ipykernel_159279/1909891248.py:11: SettingWithCopyWarning: \n",
      "A value is trying to be set on a copy of a slice from a DataFrame\n",
      "\n",
      "See the caveats in the documentation: https://pandas.pydata.org/pandas-docs/stable/user_guide/indexing.html#returning-a-view-versus-a-copy\n",
      "  x_windsor[ x > upper_whisker ] = upper_whisker\n"
     ]
    },
    {
     "data": {
      "text/plain": [
       "<Axes: >"
      ]
     },
     "execution_count": 7,
     "metadata": {},
     "output_type": "execute_result"
    },
    {
     "data": {
      "image/png": "[encoded data removed]",
      "text/plain": [
       "<Figure size 640x480 with 1 Axes>"
      ]
     },
     "metadata": {},
     "output_type": "display_data"
    }
   ],
   "source": [
    "# Handling outliers in avg_salary\n",
    "\n",
    "def winsorize(x):\n",
    "    pct25, pct75 = np.percentile(x,[25,75])\n",
    "    iqr = pct75 - pct25\n",
    "    lower_whisker = pct25 - iqr*1.5\n",
    "    upper_whisker = pct75 + iqr*1.5\n",
    "    # Windsorize x:\n",
    "    x_windsor = x\n",
    "    x_windsor[ x < lower_whisker ] = lower_whisker\n",
    "    x_windsor[ x > upper_whisker ] = upper_whisker\n",
    "    return(x_windsor)\n",
    "\n",
    "df['avg_salary'] = winsorize(df['avg_salary'])\n",
    "sns.boxplot(df['avg_salary'])"
   ]
  },
  {
   "cell_type": "code",
   "execution_count": 8,
   "metadata": {},
   "outputs": [
    {
     "data": {
      "text/plain": [
       "array(['Aerospace & Defense', 'Health Care', 'Business Services',\n",
       "       'Oil, Gas, Energy & Utilities', 'Other', 'Finance',\n",
       "       'Information Technology', 'Retail', 'Biotech & Pharmaceuticals',\n",
       "       'Insurance', 'Manufacturing', 'Government', 'Education',\n",
       "       'Non-Profit'], dtype=object)"
      ]
     },
     "execution_count": 8,
     "metadata": {},
     "output_type": "execute_result"
    }
   ],
   "source": [
    "# Reducing job_state and Sector response categories\n",
    "\n",
    "# job_state\n",
    "\n",
    "df.loc[df['job_state'] == ' CA', 'job_region'] = 'West'\n",
    "df.loc[df['job_state'] == ' ID', 'job_region'] = 'West'\n",
    "df.loc[df['job_state'] == ' OR', 'job_region'] = 'West'\n",
    "df.loc[df['job_state'] == ' UT', 'job_region'] = 'West'\n",
    "df.loc[df['job_state'] == ' WA', 'job_region'] = 'West'\n",
    "df.loc[df['job_state'] == ' CO', 'job_region'] = 'West'\n",
    "\n",
    "df.loc[df['job_state'] == ' MA', 'job_region'] = 'New England'\n",
    "df.loc[df['job_state'] == ' CT', 'job_region'] = 'New England'\n",
    "df.loc[df['job_state'] == ' RI', 'job_region'] = 'New England'\n",
    "\n",
    "df.loc[df['job_state'] == ' NY', 'job_region'] = 'Mid Atlantic'\n",
    "df.loc[df['job_state'] == ' PA', 'job_region'] = 'Mid Atlantic'\n",
    "df.loc[df['job_state'] == ' NJ', 'job_region'] = 'Mid Atlantic'\n",
    "df.loc[df['job_state'] == ' DE', 'job_region'] = 'Mid Atlantic'\n",
    "df.loc[df['job_state'] == ' MD', 'job_region'] = 'Mid Atlantic'\n",
    "df.loc[df['job_state'] == ' DC', 'job_region'] = 'Mid Atlantic'\n",
    "\n",
    "df.loc[df['job_state'] == ' VA', 'job_region'] = 'South'\n",
    "df.loc[df['job_state'] == ' NC', 'job_region'] = 'South'\n",
    "df.loc[df['job_state'] == ' FL', 'job_region'] = 'South'\n",
    "df.loc[df['job_state'] == ' TN', 'job_region'] = 'South'\n",
    "df.loc[df['job_state'] == ' AL', 'job_region'] = 'South'\n",
    "df.loc[df['job_state'] == ' GA', 'job_region'] = 'South'\n",
    "df.loc[df['job_state'] == ' SC', 'job_region'] = 'South'\n",
    "df.loc[df['job_state'] == ' KY', 'job_region'] = 'South'\n",
    "df.loc[df['job_state'] == ' LA', 'job_region'] = 'South'\n",
    "df.loc[df['job_state'] == ' MO', 'job_region'] = 'South'\n",
    "df.loc[df['job_state'] == ' VA', 'job_region'] = 'South'\n",
    "\n",
    "df.loc[df['job_state'] == ' IL', 'job_region'] = 'Midwest'\n",
    "df.loc[df['job_state'] == ' IA', 'job_region'] = 'Midwest'\n",
    "df.loc[df['job_state'] == ' IN', 'job_region'] = 'Midwest'\n",
    "df.loc[df['job_state'] == ' MN', 'job_region'] = 'Midwest'\n",
    "df.loc[df['job_state'] == ' NE', 'job_region'] = 'Midwest'\n",
    "df.loc[df['job_state'] == ' OH', 'job_region'] = 'Midwest'\n",
    "df.loc[df['job_state'] == ' WI', 'job_region'] = 'Midwest'\n",
    "df.loc[df['job_state'] == ' KS', 'job_region'] = 'Midwest'\n",
    "df.loc[df['job_state'] == ' MI', 'job_region'] = 'Midwest'\n",
    "\n",
    "df.loc[df['job_state'] == ' AZ', 'job_region'] = 'Southwest'\n",
    "df.loc[df['job_state'] == ' TX', 'job_region'] = 'Southwest'\n",
    "df.loc[df['job_state'] == ' NM', 'job_region'] = 'Southwest'\n",
    "\n",
    "# Sector\n",
    "\n",
    "df['Sector'].value_counts() # just gonna make a category called Other with uncommon sectors (less than 9)\n",
    "\n",
    "df.loc[df['Sector'] == 'Real Estate', 'Sector'] = 'Other'\n",
    "df.loc[df['Sector'] == 'Transportation & Logistics', 'Sector'] = 'Other'\n",
    "df.loc[df['Sector'] == 'Travel & Tourism', 'Sector'] = 'Other'\n",
    "df.loc[df['Sector'] == 'Telecommunications', 'Sector'] = 'Other'\n",
    "df.loc[df['Sector'] == 'Media', 'Sector'] = 'Other'\n",
    "df.loc[df['Sector'] == 'Arts, Entertainment & Recreation', 'Sector'] = 'Other'\n",
    "df.loc[df['Sector'] == 'Consumer Services', 'Sector'] = 'Other'\n",
    "df.loc[df['Sector'] == 'Mining & Metals', 'Sector'] = 'Other'\n",
    "df.loc[df['Sector'] == 'Construction, Repair & Maintenance', 'Sector'] = 'Other'\n",
    "df.loc[df['Sector'] == 'Agriculture & Forestry', 'Sector'] = 'Other'\n",
    "df.loc[df['Sector'] == '-1', 'Sector'] = 'Other'\n",
    "df.loc[df['Sector'] == 'Accounting & Legal', 'Sector'] = 'Other'\n",
    "\n",
    "df['Sector'].unique()"
   ]
  },
  {
   "cell_type": "code",
   "execution_count": 79,
   "metadata": {},
   "outputs": [],
   "source": [
    "# Train-test split\n",
    "\n",
    "cat_vars = ['Size','Sector','job_region']\n",
    "num_vars = ['Rating']\n",
    "\n",
    "X1 = df.loc[:,cat_vars]\n",
    "X1 = pd.get_dummies(X1)\n",
    "X2 = df.loc[:,num_vars]\n",
    "X = pd.concat([X1,X2],axis=1)\n",
    "y = df['avg_salary']\n",
    "\n",
    "Train_X, Test_X, Train_y, Test_y = train_test_split(X,y,test_size=.2,random_state=10)"
   ]
  },
  {
   "cell_type": "markdown",
   "metadata": {},
   "source": [
    "#### 2.2"
   ]
  },
  {
   "cell_type": "code",
   "execution_count": 89,
   "metadata": {},
   "outputs": [],
   "source": [
    "def rmse(SSE, n): # function for calculating RMSE given SSE\n",
    "    return np.sqrt(SSE*(1/n))"
   ]
  },
  {
   "cell_type": "code",
   "execution_count": 90,
   "metadata": {},
   "outputs": [],
   "source": [
    "cols = list(Train_X.columns)\n",
    "sector_cols = []\n",
    "for col in cols:\n",
    "    if 'Sector' in col:\n",
    "        sector_cols.append(col)\n",
    "\n",
    "X = Train_X.loc[:,sector_cols]\n",
    "reg = LinearRegression(fit_intercept=False).fit(X,Train_y)"
   ]
  },
  {
   "cell_type": "code",
   "execution_count": 91,
   "metadata": {},
   "outputs": [
    {
     "name": "stdout",
     "output_type": "stream",
     "text": [
      "R squared: 0.004593449661115634\n",
      "RMSE: 37.08180832811299\n"
     ]
    }
   ],
   "source": [
    "X = Test_X.loc[:,sector_cols]\n",
    "rsq = reg.score(X,Test_y)\n",
    "print(f\"R squared: {rsq}\")\n",
    "\n",
    "errors = (Test_y - reg.predict(X))**2\n",
    "SSE = errors.sum()\n",
    "print(f\"RMSE: {rmse(SSE,len(Test_y))}\")"
   ]
  },
  {
   "cell_type": "code",
   "execution_count": 92,
   "metadata": {},
   "outputs": [
    {
     "data": {
      "text/plain": [
       "array([100.7173913 , 113.20108696,  94.98076923,  99.6       ,\n",
       "        99.90625   ,  76.9375    ,  64.10810811, 112.52054795,\n",
       "       100.74056604,  82.64814815,  57.64285714,  85.1       ,\n",
       "        90.72222222,  95.5       ])"
      ]
     },
     "execution_count": 92,
     "metadata": {},
     "output_type": "execute_result"
    }
   ],
   "source": [
    "reg.coef_"
   ]
  },
  {
   "cell_type": "code",
   "execution_count": 94,
   "metadata": {},
   "outputs": [
    {
     "data": {
      "text/plain": [
       "['Sector_Aerospace & Defense',\n",
       " 'Sector_Biotech & Pharmaceuticals',\n",
       " 'Sector_Business Services',\n",
       " 'Sector_Education',\n",
       " 'Sector_Finance',\n",
       " 'Sector_Government',\n",
       " 'Sector_Health Care',\n",
       " 'Sector_Information Technology',\n",
       " 'Sector_Insurance',\n",
       " 'Sector_Manufacturing',\n",
       " 'Sector_Non-Profit',\n",
       " 'Sector_Oil, Gas, Energy & Utilities',\n",
       " 'Sector_Other',\n",
       " 'Sector_Retail']"
      ]
     },
     "execution_count": 94,
     "metadata": {},
     "output_type": "execute_result"
    }
   ],
   "source": [
    "list(X.columns)"
   ]
  },
  {
   "cell_type": "markdown",
   "metadata": {},
   "source": [
    "Information Technology and Biotech & Pharmaceuticals seem to yield the highest predicted salaries. "
   ]
  },
  {
   "cell_type": "markdown",
   "metadata": {},
   "source": [
    "#### 2.3"
   ]
  },
  {
   "cell_type": "code",
   "execution_count": 14,
   "metadata": {},
   "outputs": [
    {
     "data": {
      "text/plain": [
       "<matplotlib.collections.PathCollection at 0x7f301f2ec3d0>"
      ]
     },
     "execution_count": 14,
     "metadata": {},
     "output_type": "execute_result"
    },
    {
     "data": {
      "image/png": "[encoded data removed]",
      "text/plain": [
       "<Figure size 640x480 with 1 Axes>"
      ]
     },
     "metadata": {},
     "output_type": "display_data"
    }
   ],
   "source": [
    "plt.scatter(df['Rating'],df['avg_salary']) # no obvious relationship"
   ]
  },
  {
   "cell_type": "code",
   "execution_count": 30,
   "metadata": {},
   "outputs": [
    {
     "name": "stdout",
     "output_type": "stream",
     "text": [
      "R squared: 0.005815313816741163\n",
      "RMSE: 37.059042331066294\n"
     ]
    }
   ],
   "source": [
    "X = Train_X[['Rating']]\n",
    "y = Train_y\n",
    "\n",
    "reg = LinearRegression().fit(X,y)\n",
    "\n",
    "rsq = reg.score(Test_X[['Rating']],Test_y)\n",
    "print(f\"R squared: {rsq}\")\n",
    "errors = (Test_y - reg.predict(Test_X[['Rating']]))**2\n",
    "SSE = errors.sum()\n",
    "print(f\"RMSE: {rmse(SSE,len(Test_y))}\")"
   ]
  },
  {
   "cell_type": "code",
   "execution_count": 31,
   "metadata": {},
   "outputs": [
    {
     "name": "stderr",
     "output_type": "stream",
     "text": [
      "/tmp/ipykernel_159279/448269285.py:4: SettingWithCopyWarning: \n",
      "A value is trying to be set on a copy of a slice from a DataFrame.\n",
      "Try using .loc[row_indexer,col_indexer] = value instead\n",
      "\n",
      "See the caveats in the documentation: https://pandas.pydata.org/pandas-docs/stable/user_guide/indexing.html#returning-a-view-versus-a-copy\n",
      "  X['predictions'] = predictions\n"
     ]
    },
    {
     "data": {
      "text/plain": [
       "Text(0, 0.5, 'Predicted salary (test set)')"
      ]
     },
     "execution_count": 31,
     "metadata": {},
     "output_type": "execute_result"
    },
    {
     "data": {
      "image/png": "[encoded data removed]",
      "text/plain": [
       "<Figure size 640x480 with 1 Axes>"
      ]
     },
     "metadata": {},
     "output_type": "display_data"
    }
   ],
   "source": [
    "predictions = reg.predict(Test_X[['Rating']])\n",
    "\n",
    "X = Test_X[['Rating']]\n",
    "X['predictions'] = predictions\n",
    "plt.scatter(X['Rating'],X['predictions'])\n",
    "plt.xlabel('Rating (test set)')\n",
    "plt.ylabel('Predicted salary (test set)')"
   ]
  },
  {
   "cell_type": "markdown",
   "metadata": {},
   "source": [
    "Higher ratings predict higher wages."
   ]
  },
  {
   "cell_type": "code",
   "execution_count": 32,
   "metadata": {},
   "outputs": [],
   "source": [
    "# one hot encoding Rating and redoing the split\n",
    "\n",
    "X = pd.get_dummies(df['Rating'])\n",
    "y = df['avg_salary']\n",
    "\n",
    "Train_X, Test_X, Train_y, Test_y = train_test_split(X,y,test_size=.2,random_state=10)"
   ]
  },
  {
   "cell_type": "code",
   "execution_count": 33,
   "metadata": {},
   "outputs": [],
   "source": [
    "# regressing avg_salary on Rating (categorical version)\n",
    "\n",
    "reg = LinearRegression(fit_intercept=False).fit(Train_X,Train_y)"
   ]
  },
  {
   "cell_type": "code",
   "execution_count": 34,
   "metadata": {},
   "outputs": [
    {
     "name": "stdout",
     "output_type": "stream",
     "text": [
      "R squared: -0.09435998235561471\n",
      "RMSE: 38.881298414720554\n"
     ]
    }
   ],
   "source": [
    "rsq = reg.score(Test_X,Test_y)\n",
    "print(f\"R squared: {rsq}\")\n",
    "errors = (Test_y - reg.predict(Test_X))**2\n",
    "SSE = errors.sum()\n",
    "print(f\"RMSE: {rmse(SSE,len(Test_y))}\")"
   ]
  },
  {
   "cell_type": "markdown",
   "metadata": {},
   "source": [
    "The first version has a higher R squared and lower RMSE, but neither model produces good results. The model with Rating as a one-hot encoded variable has a negative R squared; this must be because the model's predictions are in the opposite direction of the actual trend in the data. Based on the scatter plot from earlier, however, there does not really seem to be a solid trend between rating and salary. Thus, neither model is very accurate. "
   ]
  },
  {
   "cell_type": "markdown",
   "metadata": {},
   "source": [
    "#### 2.4"
   ]
  },
  {
   "cell_type": "code",
   "execution_count": 45,
   "metadata": {},
   "outputs": [
    {
     "name": "stdout",
     "output_type": "stream",
     "text": [
      "R squared: -6.658650628448807e+24\n",
      "RMSE: 95907765311816.53\n"
     ]
    }
   ],
   "source": [
    "# not really sure if this approach is what the question is asking for, but I'm going to try to one-hot encode Sector\n",
    "#  and then interact it with the one-hot encoded Rating and regress on those results\n",
    "\n",
    "from sklearn.preprocessing import PolynomialFeatures\n",
    "\n",
    "X1 = df.loc[:,'Sector']\n",
    "X1 = pd.get_dummies(X1)\n",
    "X2 = df.loc[:,'Rating']\n",
    "X2 = pd.get_dummies(X2)\n",
    "X = pd.concat([X1,X2],axis=1)\n",
    "X.columns = X.columns.astype(str)\n",
    "\n",
    "expander = PolynomialFeatures(degree=2,include_bias=False) # Create the expander\n",
    "Z = expander.fit_transform(X) # Pass the df into the expander to get powers/interactions of x and y\n",
    "names = expander.get_feature_names_out() # Get the names of these variables\n",
    "zdf = pd.DataFrame(data=Z, columns = names) # Create a new, expanded dataframe\n",
    "zdf\n",
    "\n",
    "# redo the split\n",
    "X = zdf\n",
    "y = df['avg_salary']\n",
    "\n",
    "Train_X, Test_X, Train_y, Test_y = train_test_split(X,y,test_size=.2,random_state=10)\n",
    "\n",
    "reg = LinearRegression(fit_intercept=False).fit(Train_X,Train_y)\n",
    "print(f\"R squared: {reg.score(Test_X,Test_y)}\")\n",
    "errors = (Test_y - reg.predict(Test_X))**2\n",
    "SSE = errors.sum()\n",
    "print(f\"RMSE: {rmse(SSE,len(Test_y))}\")"
   ]
  },
  {
   "cell_type": "markdown",
   "metadata": {},
   "source": [
    "I definitely didn't do this right; I don't think I obtained the sector, rating pairs correctly, and I'm not really sure how to do that. The R squared value is horrible as well as the RMSE, so I don't think the coefficients will be very meaningful here. I am going to move on and do the rest of this question to the best of my ability, but I'm aware this part is not correct. "
   ]
  },
  {
   "cell_type": "markdown",
   "metadata": {},
   "source": [
    "#### 2.5"
   ]
  },
  {
   "cell_type": "code",
   "execution_count": 36,
   "metadata": {},
   "outputs": [],
   "source": [
    "cat_vars = ['Size','Sector','job_region']\n",
    "num_vars = ['Rating']\n",
    "\n",
    "X1 = df.loc[:,cat_vars]\n",
    "X1 = pd.get_dummies(X1)\n",
    "X2 = df.loc[:,num_vars]\n",
    "X = pd.concat([X1,X2],axis=1)\n",
    "y = df['avg_salary']\n",
    "\n",
    "Train_X, Test_X, Train_y, Test_y = train_test_split(X,y,test_size=.2,random_state=10)"
   ]
  },
  {
   "cell_type": "code",
   "execution_count": 38,
   "metadata": {},
   "outputs": [
    {
     "name": "stdout",
     "output_type": "stream",
     "text": [
      "R squared: 0.1343657531317899\n",
      "RMSE: 34.58022960662326\n"
     ]
    }
   ],
   "source": [
    "reg = LinearRegression(fit_intercept=False).fit(Train_X,Train_y)\n",
    "\n",
    "rsq = reg.score(Test_X,Test_y)\n",
    "print(f\"R squared: {rsq}\")\n",
    "errors = (Test_y - reg.predict(Test_X))**2\n",
    "SSE = errors.sum()\n",
    "print(f\"RMSE: {rmse(SSE,len(Test_y))}\")"
   ]
  },
  {
   "cell_type": "markdown",
   "metadata": {},
   "source": [
    "With every variable included as a predictor, the R squared value is ~0.13, and the RMSE is ~34.58. This is not a very good model, but it is still better than the simpler models from earlier, which had negligible R squared values. It's much better than my model in the previous part, but that's not saying much. I think that more deliberate manipulation of the predictor variables during the cleaning stage might have produced better results."
   ]
  },
  {
   "cell_type": "markdown",
   "metadata": {},
   "source": [
    "#### 2.6"
   ]
  },
  {
   "cell_type": "markdown",
   "metadata": {},
   "source": [
    "My model from earlier with the polynomial expansions has over 1000 predictors, so I don't think a tree will produce better results. Again, I know I did that wrong, and I think once I know how to fix my mistakes there I will be able to produce a model here. Sorry!"
   ]
  },
  {
   "cell_type": "markdown",
   "metadata": {},
   "source": [
    "#### 2.7"
   ]
  },
  {
   "cell_type": "code",
   "execution_count": 68,
   "metadata": {},
   "outputs": [],
   "source": [
    "cat_vars = ['Sector','job_region','Size'] \n",
    "num_vars = ['Rating']\n",
    "X1 = df.loc[:,cat_vars]\n",
    "X1 = pd.get_dummies(X1)\n",
    "X2 = df.loc[:,num_vars]\n",
    "X = pd.concat([X1,X2],axis=1)\n",
    "y = df['avg_salary']\n",
    "\n",
    "# doing the split:\n",
    "Train_X, Test_X, Train_y, Test_y = train_test_split(X,y,test_size=.2,random_state=10)\n",
    "\n",
    "model = tree.DecisionTreeRegressor(max_depth=13)\n",
    "cart = model.fit(Train_X, Train_y)\n",
    "y_hat = cart.predict(Test_X)\n",
    "SSE = np.sum( (Test_y-y_hat)**2 )\n",
    "RMSE = rmse(SSE,len(Test_y))\n",
    "\n",
    "rsq = cart.score(Test_X,Test_y)"
   ]
  },
  {
   "cell_type": "code",
   "execution_count": 66,
   "metadata": {},
   "outputs": [
    {
     "name": "stdout",
     "output_type": "stream",
     "text": [
      "R squared: 0.08759269449501561\n",
      "RMSE: 35.5084653733039\n"
     ]
    }
   ],
   "source": [
    "print(f\"R squared: {rsq}\")\n",
    "print(f\"RMSE: {RMSE}\")"
   ]
  },
  {
   "cell_type": "markdown",
   "metadata": {},
   "source": [
    "#### 2.8"
   ]
  },
  {
   "cell_type": "code",
   "execution_count": 78,
   "metadata": {},
   "outputs": [
    {
     "name": "stdout",
     "output_type": "stream",
     "text": [
      "R squared: 0.11336914426720879\n",
      "RMSE: 34.997101588404924\n"
     ]
    }
   ],
   "source": [
    "# gonna try one with Sector, job_region and Size\n",
    "\n",
    "X1 = df.loc[:,'Sector']\n",
    "X1 = pd.get_dummies(X1)\n",
    "X2 = df.loc[:,'job_region']\n",
    "X2 = pd.get_dummies(X2)\n",
    "X3 = df.loc[:,'Size']\n",
    "X3 = pd.get_dummies(X3)\n",
    "X = pd.concat([X1,X2,X3],axis=1)\n",
    "y = df['avg_salary']\n",
    "\n",
    "Train_X, Test_X, Train_y, Test_y = train_test_split(X,y,test_size=.2,random_state=10)\n",
    "\n",
    "reg = LinearRegression(fit_intercept=False).fit(Train_X,Train_y)\n",
    "rsq = reg.score(Test_X,Test_y)\n",
    "print(f\"R squared: {rsq}\")\n",
    "errors = (Test_y - reg.predict(Test_X))**2\n",
    "SSE = errors.sum()\n",
    "print(f\"RMSE: {rmse(SSE,len(Test_y))}\")"
   ]
  },
  {
   "cell_type": "markdown",
   "metadata": {},
   "source": [
    "This model has an R squared of ~0.113 and an RMSE of ~34.997. It performed better on the test set than most of my other models, but still performed worse than my model that also included Rating. I think this is because that including rating as a predictor allowed for a small fraction of additional variability to be explained. However, neither model is ultimately very good. If I had more time, I would go back and manipulate the predictors differently and then use those in additional models and compare. "
   ]
  },
  {
   "cell_type": "markdown",
   "metadata": {},
   "source": [
    "**Q3.** This a question purely on categorical prediction. The data for this happen to be gathered in 1987 in Indonesia, and concern contraceptive method choice. The questions and data-gathering assumptions reflect the culture and attitudes of that time and place, but provide a good example of a categorical prediction problem on an important topic (family planning and maternal health The variables in the data are:\n",
    "\n",
    "    - Wife's age (numerical)\n",
    "    - Wife's education (categorical) 1=low, 2, 3, 4=high \n",
    "    - Husband's education (categorical) 1=low, 2, 3, 4=high \n",
    "    - Number of children ever born (numerical) \n",
    "    - Wife's religion (binary) 0=Non-Islam, 1=Islam\n",
    "    - Wife's now working? (binary) 0=Yes, 1=No\n",
    "    - Husband's occupation (categorical) 1, 2, 3, 4\n",
    "    - Standard-of-living index (categorical) 1=low, 2, 3, 4=high\n",
    "    - Media exposure (binary) 0=Good, 1=Not good\n",
    "    - Contraceptive method used (class attribute) 1=No-use, 2=Long-term, 3=Short-termhort-term\n",
    "\n",
    "  1. Load the `contraceptiveMethodChoice.csv` data. Tabulate the `method` variable (i.e. `.value_counts()`). 1 corresponds to `No Contraception`, 3 corresponds to `Short Term` (e.g. condoms, birth control pills), and 2 corresponds to `Long Term` (e.g. IUD, sterilization). Cross tabulate `method` and `numberChildren`. Do couples that use birth control tend to have more children than those who don't?\n",
    "  2. Split the sample into ~80% training data and ~20% testing data.\n",
    "  3. We are now going to make a mistake. Train a regression tree to predict the contraceptive method using the other variables in the data, not a classification tree. Look at the terminal nodes in the tree: What values do they take? Does that make sense? Explain clearly what has gone wrong here.\n",
    "  4. Instead of regression, use a classification tree to predict contraceptive method using the other variables in the data. How does it look different from the previous tree? What variables does the algorithm use? In broad terms, which groups of people are most likely to use each method of contraception?\n",
    "  5. Compute a confusion matrix for your classification tree on the test set (Hint: There are now three categories instead of two, so the cross tabulation will be a $3 \\times 3$ matrix instead of $2 \\times 2$.). Compute the Accuracy of your model overall, and the Accuracy for predicting each contraceptive method.\n",
    "  7. Why can't you use a linear probability model to do this exercise? Explain clearly in words."
   ]
  },
  {
   "cell_type": "markdown",
   "metadata": {},
   "source": [
    "**Q4.** This is a question where we use regression and regression trees. The outcome is whether a defendant is held pre-trial in the Virginia justice system. We would like to understand how that outcome is predicted by characteristics of the defendant, particularly race. Let's be very careful/clear: We aren't saying anyone *should* be held without bond or asserting that people with different demographic variables *should* be more likely to be held, but instead trying to predict whether people with different characteristics *are empirically more likely* to be held without bond, given the available information. This is the first step we would take in investigating whether a system is fair, or how large the disparities are: Does it treat people with similar observable characteristics similarly, or not? We are going to look at a common question: Are Black defendants treated differently from white or Asian ones? (There are Native American defendants, but there are 11 in total, which is such a small number of observations that is difficult to clearly say anything about how this group is treated relative to the others.)\n",
    "\n",
    "The variables in the data are:\n",
    "\n",
    "  - `held_wo_bail`: Whether a defendant is held without bail before trial (Boolean logical)\n",
    "  - `race`, `sex`: Categorical demographic variables\n",
    "  - `is_poor`: Whether the defendant is classified as indigent \n",
    "  - `prior_F`, `prior_M`: The number of prior felony and misdemeanor arrests\n",
    "  - `case_type`: A categorical variable indicating a misdemeanor `M` or felony `F` or infraction `I` or special case `S`\n",
    "  - `age`: Defendant's age\n",
    "  - `bond`, `bond_NA`, `bond_type`: The amount of any bond, whether it is missing, and the type\n",
    "  - `sentence`, `sentence_NA`, `sentence_type`: The length of any sentence, whether it is missing, and the type\n",
    "\n",
    "1. Load the `pretrial_data.csv` data. Notice that there are `nan`s, but the data are relatively clean. Because there are `.nan`s among variables you won't use, you'll want to narrow down your analysis to the relevant variables before dropping or imputing missing values.\n",
    "2. Create a dummy variable indicating that the defendant is Black.\n",
    "3. Regress `held` on `Black`. What is the slope coefficient Interpret the coefficient on the Black dummy variable: How much more likely is a black person to be held without bail? What is the $R^2$ of the model?\n",
    "4. Before doing this question, please think for a few minutes about how to make the process of running these regressions as efficient as possible, before jumping into writing code. Repeat part 2, for the following specifications, keeping track of the coefficient on the Black dummy variable each time:\n",
    "      - `held` on `Black` and `sex`\n",
    "      - `held` on `Black` and `sex` and `is_poor`\n",
    "      - `held` on `Black` and `sex` and `is_poor` and `prior_F`\n",
    "      - `held` on `Black` and `sex` and `is_poor` and `prior_F` and `case_type`\n",
    "What happens to the coefficient on the Black dummy variable as you include more regressors/features/controls in the regression? Explain your findings.\n",
    "5. Suppose we don't want to see just `Black` and `sex`, but `Black` interacted with `sex`: Are Black men and Black women treated systemically differently from the rest of the population? Implement this in a regression, and explain your findings.\n",
    "6. Imagine someone argued we should use these kinds of models to help a judge or magistrate make bail decisions (you could obviously go back and make this kind of model for the bond and sentence variables, then deploy it on new cases to predict what their bond and sentence values would be). What concerns would you have? Do you think society should be using data-driven and automated tools like that? Explain your concerns clearly."
   ]
  },
  {
   "cell_type": "markdown",
   "metadata": {},
   "source": [
    "**Q5.** This is a math question to review the derivation of the OLS estimator (but only if you are into that kind of thing!). We are going to do it slightly differently from what we did in class, though. We will use a linear predictor and minimize the Sum of Squared Errors, just as in class. But, we are going to de-mean $X$ first, creating another variable $z_i = x_i - \\bar{x}$ where \n",
    "$$\n",
    "\\bar{x} = \\dfrac{1}{N} \\sum_{i=1}^N x_i,\n",
    "$$\n",
    "so the model is $\\hat{y}_i = a + b z_i$ and the `SSE` is\n",
    "$$\n",
    "\\text{SSE}(a,b) = \\sum_{i=1}^N (y_i - a - bz_i)^2.\n",
    "$$\n",
    "\n",
    "  1. Take partial derivatives of the `SSE` with respect to $a$ and $b$. You should get\n",
    "\n",
    "\\begin{eqnarray*}\n",
    "\\sum_{i=1}^N -2(y_i - a- bz_i) &=& 0 \\\\\n",
    "\\sum_{i=1}^N -2(y_i - a - bz_i)z_i &=& 0.\n",
    "\\end{eqnarray*}\n",
    "\n",
    "  2. Solve for the solutions to the above equations. Big hint: $\\bar{z} = 0$, since we subtracted the mean of $x$ from $x$ to get $z$. You should get\n",
    "\n",
    "\\begin{eqnarray*}\n",
    "a^* &=& \\bar{y} \\\\\n",
    "b^* &=& \\dfrac{\\sum_{i=1}^N(y_i - \\bar{y})z_i}{\\sum_{i=1}^N z_i^2}.\n",
    "\\end{eqnarray*}\n",
    "\n",
    "  3. Substitute $z_i = x_i - \\bar{x}$ back into the above equations. You should get\n",
    "  \n",
    "\\begin{eqnarray*}\n",
    "a^* &=& \\bar{y} \\\\\n",
    "b^* &=& \\dfrac{\\sum_{i=1}^N(y_i - \\bar{y})(x_i-\\bar{x})}{\\sum_{i=1}^N (x_i-\\bar{x})^2},\n",
    "\\end{eqnarray*}\n",
    "\n",
    "which can be written in terms of sample covariance and sample variance as:\n",
    "\n",
    "\\begin{eqnarray*}\n",
    "a^* &=& \\bar{y} \\\\\n",
    "b^* &=& \\dfrac{\\text{cov}(x,y)}{\\text{var}(x)}.\n",
    "\\end{eqnarray*}\n",
    "\n",
    "This is typically the preferred way of expressing the OLS coefficients.\n",
    "\n",
    "4. When will $b^*$ be large or small, depending on the relationship between $x$ and $y$ and the amount of \"noise\"/variance in $x$? What does $a^*$ represent?\n",
    "5. Suppose you have measurement error in $x$ which artificially inflates its variance (e.g. bad data cleaning). What happens to the $b^*$ coefficient? How will affect your ability to predict? (This phenomenon is called **attenuation**.)\n",
    "6. Let's return to the question of *outliers*. With your formula for the OLS coefficients $(a^*,b^*)$, explain what happens if you significantly increase a single value of the outcome/target/response variable $y_i$ or one of the predictor/explanatory/covariate variables $x_i$. If values for some extreme observations are exerting significant influence over the regression coefficients, will the model perform well on for more average observations?"
   ]
  }
 ],
 "metadata": {
  "kernelspec": {
   "display_name": "PyTorch 2.0.1",
   "language": "python",
   "name": "pytorch-2.0.1"
  },
  "language_info": {
   "codemirror_mode": {
    "name": "ipython",
    "version": 3
   },
   "file_extension": ".py",
   "mimetype": "text/x-python",
   "name": "python",
   "nbconvert_exporter": "python",
   "pygments_lexer": "ipython3",
   "version": "3.10.12"
  }
 },
 "nbformat": 4,
 "nbformat_minor": 5
}
